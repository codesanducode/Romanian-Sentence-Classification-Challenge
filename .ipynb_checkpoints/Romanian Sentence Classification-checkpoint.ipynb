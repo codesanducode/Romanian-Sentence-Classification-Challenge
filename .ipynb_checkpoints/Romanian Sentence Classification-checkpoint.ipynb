{
 "cells": [
  {
   "cell_type": "code",
   "execution_count": 1,
   "metadata": {},
   "outputs": [],
   "source": [
    "import pandas as pd\n",
    "from keras.utils import to_categorical\n",
    "import numpy as np\n",
    "import numpy as np\n",
    "import tensorflow as tf\n",
    "from tensorflow import keras\n",
    "from tensorflow.keras import layers"
   ]
  },
  {
   "cell_type": "code",
   "execution_count": 2,
   "metadata": {},
   "outputs": [],
   "source": [
    "train = pd.read_csv('train.txt', sep=\",\",header=None, names=[\"id\", \"class\", \"data\"]).astype('U')\n",
    "X_train = train[\"data\"]\n",
    "Y_train = np.array(to_categorical(train[\"class\"]))\n",
    "\n",
    "validation = pd.read_csv('validation.txt', sep=\",\",header=None, names=[\"id\", \"class\", \"data\"])\n",
    "X_validation = validation[\"data\"].astype('U')\n",
    "Y_validation = to_categorical(validation[\"class\"].astype('U'))\n",
    "\n",
    "test = pd.read_csv('test.txt', sep=\",\",header=None, names=[\"id\", \"data\"]).astype('U')\n",
    "X_test = test[\"data\"].astype('U')"
   ]
  },
  {
   "cell_type": "code",
   "execution_count": 3,
   "metadata": {},
   "outputs": [],
   "source": [
    "features = 2**17\n",
    "from sklearn.feature_extraction.text import HashingVectorizer\n",
    "\n",
    "vectorizer = HashingVectorizer(analyzer='word',ngram_range=(1, 2),n_features=features,alternate_sign=False)\n",
    "X = vectorizer.fit_transform(X_train).toarray()\n",
    "X = X.reshape((X.shape[0],1, X.shape[1]))\n",
    "\n",
    "\n",
    "X_val =vectorizer.fit_transform(X_validation).toarray()\n",
    "X_val = X_val.reshape((X_val.shape[0],1, X_val.shape[1]))\n",
    "\n",
    "X_test =vectorizer.fit_transform(X_test).toarray()\n",
    "X_test= X_test.reshape((X_test.shape[0],1, X_test.shape[1]))"
   ]
  },
  {
   "cell_type": "code",
   "execution_count": 4,
   "metadata": {},
   "outputs": [
    {
     "name": "stdout",
     "output_type": "stream",
     "text": [
      "Model: \"sequential\"\n",
      "_________________________________________________________________\n",
      "Layer (type)                 Output Shape              Param #   \n",
      "=================================================================\n",
      "bidirectional (Bidirectional (None, 128)               67142144  \n",
      "_________________________________________________________________\n",
      "batch_normalization (BatchNo (None, 128)               512       \n",
      "_________________________________________________________________\n",
      "dropout (Dropout)            (None, 128)               0         \n",
      "_________________________________________________________________\n",
      "dense (Dense)                (None, 32)                4128      \n",
      "_________________________________________________________________\n",
      "batch_normalization_1 (Batch (None, 32)                128       \n",
      "_________________________________________________________________\n",
      "dropout_1 (Dropout)          (None, 32)                0         \n",
      "_________________________________________________________________\n",
      "dense_1 (Dense)              (None, 11)                363       \n",
      "=================================================================\n",
      "Total params: 67,147,275\n",
      "Trainable params: 67,146,955\n",
      "Non-trainable params: 320\n",
      "_________________________________________________________________\n"
     ]
    }
   ],
   "source": [
    "# model\n",
    "from keras.models import Sequential\n",
    "from keras.layers import Dense, Dropout, BatchNormalization\n",
    "def build_model():\n",
    "    model = Sequential()\n",
    "\n",
    "    model.add(layers.Bidirectional(layers.LSTM(64,return_sequences=False),input_shape=(1,features)))\n",
    "    model.add(BatchNormalization())\n",
    "    model.add(Dropout(0.5))\n",
    "    model.add(Dense(64,activation='tanh'))\n",
    "    model.add(BatchNormalization())\n",
    "    model.add(Dropout(0.5))\n",
    "    model.add(Dense(11, activation='softmax'))\n",
    "    \n",
    "    \n",
    "    return model\n",
    "\n",
    "model = build_model()\n",
    "model.compile(\n",
    "    loss=keras.losses.CategoricalCrossentropy(),\n",
    "    optimizer=keras.optimizers.Adam(),\n",
    "    metrics=[\"accuracy\"],\n",
    ")\n",
    "model.summary()"
   ]
  },
  {
   "cell_type": "code",
   "execution_count": 5,
   "metadata": {},
   "outputs": [
    {
     "name": "stdout",
     "output_type": "stream",
     "text": [
      "Epoch 1/20\n",
      "40/40 [==============================] - 13s 317ms/step - loss: 2.0143 - accuracy: 0.3760 - val_loss: 2.3595 - val_accuracy: 0.1289\n",
      "Epoch 2/20\n",
      "40/40 [==============================] - 8s 209ms/step - loss: 0.8854 - accuracy: 0.7256 - val_loss: 2.3235 - val_accuracy: 0.1742\n",
      "Epoch 3/20\n",
      "40/40 [==============================] - 8s 210ms/step - loss: 0.5039 - accuracy: 0.8692 - val_loss: 2.2791 - val_accuracy: 0.3171\n",
      "Epoch 4/20\n",
      "40/40 [==============================] - 8s 209ms/step - loss: 0.3368 - accuracy: 0.9384 - val_loss: 2.2244 - val_accuracy: 0.4164\n",
      "Epoch 5/20\n",
      "40/40 [==============================] - 8s 211ms/step - loss: 0.2404 - accuracy: 0.9596 - val_loss: 2.1536 - val_accuracy: 0.5662\n",
      "Epoch 6/20\n",
      "40/40 [==============================] - 8s 207ms/step - loss: 0.1899 - accuracy: 0.9720 - val_loss: 2.0665 - val_accuracy: 0.6237\n",
      "Epoch 7/20\n",
      "40/40 [==============================] - 8s 209ms/step - loss: 0.1569 - accuracy: 0.9784 - val_loss: 1.9674 - val_accuracy: 0.6951\n",
      "Epoch 8/20\n",
      "40/40 [==============================] - 8s 208ms/step - loss: 0.1314 - accuracy: 0.9856 - val_loss: 1.8520 - val_accuracy: 0.7509\n",
      "Epoch 9/20\n",
      "40/40 [==============================] - 8s 208ms/step - loss: 0.1241 - accuracy: 0.9824 - val_loss: 1.7189 - val_accuracy: 0.7735\n",
      "Epoch 10/20\n",
      "40/40 [==============================] - 8s 209ms/step - loss: 0.1076 - accuracy: 0.9844 - val_loss: 1.5775 - val_accuracy: 0.7857\n",
      "Epoch 11/20\n",
      "40/40 [==============================] - 8s 210ms/step - loss: 0.0920 - accuracy: 0.9868 - val_loss: 1.4228 - val_accuracy: 0.8014\n",
      "Epoch 12/20\n",
      "40/40 [==============================] - 8s 210ms/step - loss: 0.0766 - accuracy: 0.9920 - val_loss: 1.2682 - val_accuracy: 0.8328\n",
      "Epoch 13/20\n",
      "40/40 [==============================] - 8s 206ms/step - loss: 0.0786 - accuracy: 0.9888 - val_loss: 1.1322 - val_accuracy: 0.8153\n",
      "Epoch 14/20\n",
      "40/40 [==============================] - 8s 208ms/step - loss: 0.0699 - accuracy: 0.9892 - val_loss: 0.9995 - val_accuracy: 0.8136\n",
      "Epoch 15/20\n",
      "40/40 [==============================] - 9s 214ms/step - loss: 0.0707 - accuracy: 0.9892 - val_loss: 0.8931 - val_accuracy: 0.8084\n",
      "Epoch 16/20\n",
      "40/40 [==============================] - 8s 207ms/step - loss: 0.0549 - accuracy: 0.9912 - val_loss: 0.8024 - val_accuracy: 0.8188\n",
      "Epoch 17/20\n",
      "40/40 [==============================] - 8s 209ms/step - loss: 0.0599 - accuracy: 0.9916 - val_loss: 0.7334 - val_accuracy: 0.8223\n",
      "Epoch 18/20\n",
      "40/40 [==============================] - 8s 209ms/step - loss: 0.0547 - accuracy: 0.9932 - val_loss: 0.6930 - val_accuracy: 0.8136\n",
      "Epoch 19/20\n",
      "40/40 [==============================] - 8s 209ms/step - loss: 0.0557 - accuracy: 0.9924 - val_loss: 0.6660 - val_accuracy: 0.8136\n",
      "Epoch 20/20\n",
      "40/40 [==============================] - 8s 207ms/step - loss: 0.0527 - accuracy: 0.9916 - val_loss: 0.6507 - val_accuracy: 0.8310\n"
     ]
    }
   ],
   "source": [
    "history = model.fit(X, Y_train, validation_data=(X_val, Y_validation), epochs=20, batch_size=64, shuffle=True)"
   ]
  },
  {
   "cell_type": "code",
   "execution_count": 9,
   "metadata": {},
   "outputs": [
    {
     "name": "stdout",
     "output_type": "stream",
     "text": [
      "83.101\n"
     ]
    },
    {
     "data": {
      "image/png": "[encoded data removed]",
      "text/plain": [
       "<Figure size 432x288 with 2 Axes>"
      ]
     },
     "metadata": {
      "needs_background": "light"
     },
     "output_type": "display_data"
    }
   ],
   "source": [
    "import matplotlib.pyplot as plt\n",
    "# plot diagnostic learning curves\n",
    "def summarize_diagnostics(history):\n",
    "    # plot loss\n",
    "    plt.subplot(211)\n",
    "    plt.title('Cross Entropy Loss')\n",
    "    plt.plot(history.history['loss'], color='blue', label='train')\n",
    "    plt.plot(history.history['val_loss'], color='orange', label='test')\n",
    "    \n",
    "    # plot accuracy\n",
    "    plt.subplot(212)\n",
    "    plt.title('Classification Accuracy')\n",
    "    plt.plot(history.history['accuracy'], color='blue', label='train')\n",
    "    plt.plot(history.history['val_accuracy'], color='orange', label='test')\n",
    "\n",
    "\n",
    "plt.show()\n",
    "_, acc = model.evaluate(X_val, Y_validation, verbose=0)\n",
    "\n",
    "print('%.3f' % (acc * 100.0))\n",
    "\n",
    "# learning curves\n",
    "summarize_diagnostics(history)"
   ]
  },
  {
   "cell_type": "code",
   "execution_count": 8,
   "metadata": {},
   "outputs": [
    {
     "name": "stdout",
     "output_type": "stream",
     "text": [
      "[[50  0  0  5  0  0  0  3  1  3]\n",
      " [ 0 57  1  1  1  2  1  0  0  1]\n",
      " [ 1  4 34  0  1  0  1  1  3  2]\n",
      " [ 1  1  1 50  1  0  1  3  0  0]\n",
      " [ 0  4  2  0 24  1  2  0  0  0]\n",
      " [ 0  1  4  0  0 26  1  2  1  0]\n",
      " [ 2  1  0  0  0  0 65  0  2  3]\n",
      " [ 1  0  0  3  0  0  3 54  1  0]\n",
      " [ 1  3  1  0  0  0  3  1 73  1]\n",
      " [ 2  2  0  1  0  0  5  1  2 44]]\n"
     ]
    }
   ],
   "source": [
    "# confusion matrix\n",
    "from sklearn.metrics import confusion_matrix\n",
    "\n",
    "predictions = np.argmax(model.predict(X_val), axis=1)\n",
    "ground_truth = np.argmax(Y_validation, axis=1)\n",
    "matrix = confusion_matrix(ground_truth, predictions)\n",
    "print(matrix)"
   ]
  },
  {
   "cell_type": "code",
   "execution_count": null,
   "metadata": {},
   "outputs": [],
   "source": [
    "# make submission file\n",
    "# test_predictions = np.argmax(model.predict(X_test), axis=1)\n",
    "\n",
    "# f = open(\"submission.txt\",\"w\")\n",
    "# f.write(\"id,label\\n\")\n",
    "# for i in range(len(X_test)):\n",
    "#     f.write(str(test['id'][i])+','+str(test_predictions[i])+'\\n')\n",
    "# f.close()"
   ]
  }
 ],
 "metadata": {
  "kernelspec": {
   "display_name": "Python 3",
   "language": "python",
   "name": "python3"
  },
  "language_info": {
   "codemirror_mode": {
    "name": "ipython",
    "version": 3
   },
   "file_extension": ".py",
   "mimetype": "text/x-python",
   "name": "python",
   "nbconvert_exporter": "python",
   "pygments_lexer": "ipython3",
   "version": "3.8.5"
  }
 },
 "nbformat": 4,
 "nbformat_minor": 4
}
